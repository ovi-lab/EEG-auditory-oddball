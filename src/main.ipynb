{
 "cells": [
  {
   "cell_type": "code",
   "execution_count": 1,
   "metadata": {},
   "outputs": [],
   "source": [
    "import PyQt6.QtCore\n",
    "import os\n",
    "os.environ[\"QT_API\"] = \"pyqt5\"\n",
    "\n",
    "\n",
    "# Use qt backend for matplotlab to use interactive mne plots\n",
    "%matplotlib qt"
   ]
  },
  {
   "cell_type": "code",
   "execution_count": 2,
   "metadata": {},
   "outputs": [],
   "source": [
    "import mne \n",
    "import analysis.processing\n",
    "import matplotlib.pyplot as plt\n",
    "import pandas as pd\n",
    "import csv \n",
    "\n",
    "mne.set_log_level(verbose='WARNING', return_old_level=False, add_frames=None)"
   ]
  },
  {
   "cell_type": "code",
   "execution_count": 3,
   "metadata": {},
   "outputs": [
    {
     "name": "stderr",
     "output_type": "stream",
     "text": [
      "c:\\Users\\erang\\Desktop\\Auditory-oddball\\src\\analysis\\processing.py:46: RuntimeWarning: Fiducial point nasion not found, assuming identity unknown to head transformation\n",
      "  raw_filtered.set_montage(montage)\n",
      "c:\\Users\\erang\\Desktop\\Auditory-oddball\\src\\analysis\\processing.py:46: RuntimeWarning: Fiducial point nasion not found, assuming identity unknown to head transformation\n",
      "  raw_filtered.set_montage(montage)\n",
      "c:\\Users\\erang\\Desktop\\Auditory-oddball\\src\\analysis\\processing.py:46: RuntimeWarning: Fiducial point nasion not found, assuming identity unknown to head transformation\n",
      "  raw_filtered.set_montage(montage)\n"
     ]
    }
   ],
   "source": [
    "# read group evokeds\n",
    "\n",
    "oddball_list = []\n",
    "control_list = []\n",
    "\n",
    "for pnum in (11, 12, 13, ):\n",
    "    raw = analysis.processing.loadData(pnum)\n",
    "\n",
    "    # preprocessig \n",
    "    raw = analysis.processing.preprocessing(raw)\n",
    "    epochs, event_dict = analysis.processing.eventEpocshByBlocks(raw)\n",
    "\n",
    "    for bnum in (0, 1, 2):\n",
    "        block = \"b\" + str(bnum)\n",
    "\n",
    "        oddball = epochs[f\"oddball & block == '{block}'\"].average()\n",
    "        control = epochs[f\"control & block == '{block}'\"].average()\n",
    "        oddball_list.append(oddball)\n",
    "        control_list.append(control)\n",
    "\n",
    "\n",
    "\n",
    "title= \"ERP\"\n",
    "roi =['7Z']\n",
    "\n",
    "evokeds = dict(\n",
    "    oddball=  oddball_list,\n",
    "    control= control_list,\n",
    ")"
   ]
  },
  {
   "cell_type": "code",
   "execution_count": 4,
   "metadata": {},
   "outputs": [],
   "source": [
    "analysis.processing.getERPMontage(evokeds)"
   ]
  }
 ],
 "metadata": {
  "kernelspec": {
   "display_name": "oddball-KYxTObZq-py3.8",
   "language": "python",
   "name": "python3"
  },
  "language_info": {
   "codemirror_mode": {
    "name": "ipython",
    "version": 3
   },
   "file_extension": ".py",
   "mimetype": "text/x-python",
   "name": "python",
   "nbconvert_exporter": "python",
   "pygments_lexer": "ipython3",
   "version": "3.8.10"
  }
 },
 "nbformat": 4,
 "nbformat_minor": 2
}
